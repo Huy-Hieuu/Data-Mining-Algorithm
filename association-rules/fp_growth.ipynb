{
 "cells": [
  {
   "cell_type": "markdown",
   "metadata": {},
   "source": [
    "Bước 1 - Zip original transactions to FP-tree\n",
    "Bước 2 - Build FP-tree\n",
    "    **item in (1-itemsets) => conditional pattern (base) => conditional (FP-tree)**\n",
    "\n",
    "    - sort item in 1-itemsets in asc order\n",
    "    - conditional pattern base: FP-tree path from `root` to `leaf` with result = min(weight of path)\n",
    "    - conditional FP-tree: \n",
    "        + combine weight of each node from `root` to `leaf`\n",
    "        + picking nodes with be higher weight than min_support \n",
    "\n",
    "    ex: \n",
    "        - item              | conditional pattern base  | conditional FP-tree   | frequent_itemsets\n",
    "        - p\t                | {fcam:2, cb:1}            | {c:3}-p               | p, cp\n",
    "        - m                 | {fca:2, fcab:1}           | {f:3, c:3, a:3}-m     | m, fm, cm, am, fcm, cam, fam, fcam\n",
    "        - b                 | {fca:1, f:1, c:1}         | ∅\t                    | b\n",
    "\n",
    "ref: https://viblo.asia/p/khai-pha-du-lieu-va-lop-bai-toan-khai-thac-cac-tap-pho-bien-p2-m68Z0W06KkG \n",
    "ref: https://chatgpt.com/c/67755c48-37b8-8003-95bd-9d2688dbfcc1\n"
   ]
  },
  {
   "cell_type": "code",
   "execution_count": null,
   "metadata": {},
   "outputs": [],
   "source": [
    "from collections import defaultdict"
   ]
  },
  {
   "cell_type": "code",
   "execution_count": null,
   "metadata": {},
   "outputs": [],
   "source": [
    "class FPNode:\n",
    "    def __init__(self, item, count, parent):\n",
    "        self.item = item\n",
    "        self.count = count\n",
    "        self.parent = parent\n",
    "        self.childern = {}\n",
    "\n"
   ]
  }
 ],
 "metadata": {
  "kernelspec": {
   "display_name": "Python 3",
   "language": "python",
   "name": "python3"
  },
  "language_info": {
   "name": "python",
   "version": "3.10.12"
  }
 },
 "nbformat": 4,
 "nbformat_minor": 2
}
